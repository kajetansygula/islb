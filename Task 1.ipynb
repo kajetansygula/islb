{
 "cells": [
  {
   "cell_type": "markdown",
   "id": "bdcf86db",
   "metadata": {},
   "source": [
    "## Task 1 - Create a dataset  for further analysis"
   ]
  },
  {
   "cell_type": "code",
   "execution_count": 1,
   "id": "cfe0d7be",
   "metadata": {},
   "outputs": [],
   "source": [
    "import pandas as pd\n",
    "import seaborn as sns\n",
    "import matplotlib.pyplot as plt\n",
    "\n",
    "from typing import List"
   ]
  },
  {
   "cell_type": "markdown",
   "id": "a31fc659",
   "metadata": {},
   "source": [
    "### Preprocessing customer information dataset"
   ]
  },
  {
   "cell_type": "code",
   "execution_count": 2,
   "id": "fe69875c",
   "metadata": {},
   "outputs": [
    {
     "name": "stdout",
     "output_type": "stream",
     "text": [
      "<class 'pandas.core.frame.DataFrame'>\n",
      "RangeIndex: 68529 entries, 0 to 68528\n",
      "Data columns (total 5 columns):\n",
      " #   Column           Non-Null Count  Dtype  \n",
      "---  ------           --------------  -----  \n",
      " 0   RANDOM_ID        68529 non-null  int64  \n",
      " 1   ONBOARDING_YEAR  50424 non-null  float64\n",
      " 2   AGE              68529 non-null  int64  \n",
      " 3   LCR_PERCENT      68529 non-null  int64  \n",
      " 4   GENDER_CD        56068 non-null  float64\n",
      "dtypes: float64(2), int64(3)\n",
      "memory usage: 2.6 MB\n"
     ]
    }
   ],
   "source": [
    "# Load customer information dataset\n",
    "customer_info = pd.read_csv(\"customer_info.csv\")\n",
    "\n",
    "# Print information about data types and missing values\n",
    "customer_info.info()"
   ]
  },
  {
   "cell_type": "markdown",
   "id": "bdce9a42",
   "metadata": {},
   "source": [
    "To fill missing information regarding customer's gender I am going to simply create an additional category - 0. For ONBOARDING_YEAR I will fill missing values with a **mean of each age group** as these variables are highly correleted."
   ]
  },
  {
   "cell_type": "code",
   "execution_count": 3,
   "id": "a87c4a4c",
   "metadata": {},
   "outputs": [],
   "source": [
    "# Fill missing gender information with 0 (new category)\n",
    "customer_info.GENDER_CD.fillna(0, inplace=True)\n",
    "\n",
    "# Fill missing values with mean of each age group\n",
    "customer_info.ONBOARDING_YEAR = customer_info.ONBOARDING_YEAR.fillna(customer_info.groupby('AGE')['ONBOARDING_YEAR'].transform('mean'))\n",
    "customer_info.ONBOARDING_YEAR = customer_info.ONBOARDING_YEAR.astype('int')"
   ]
  },
  {
   "cell_type": "code",
   "execution_count": 4,
   "id": "ef11fcb2",
   "metadata": {},
   "outputs": [],
   "source": [
    "# Create features based on information values of RANDOM_ID\n",
    "def get_first_digit(number):\n",
    "    while (number >= 10):\n",
    "        number = number // 10\n",
    "    return number\n",
    "\n",
    "def get_last_three_digits(number):\n",
    "    return str(number)[-4:]\n",
    "\n",
    "\n",
    "customer_info[\"GROUP_1\"] = customer_info.RANDOM_ID.apply(get_first_digit)\n",
    "customer_info[\"GROUP_2\"] = customer_info.RANDOM_ID.apply(get_last_three_digits)"
   ]
  },
  {
   "cell_type": "markdown",
   "id": "7c8b8208",
   "metadata": {},
   "source": [
    "### Preprocessing channels usage dataset"
   ]
  },
  {
   "cell_type": "code",
   "execution_count": 5,
   "id": "88065360",
   "metadata": {},
   "outputs": [
    {
     "name": "stdout",
     "output_type": "stream",
     "text": [
      "<class 'pandas.core.frame.DataFrame'>\n",
      "RangeIndex: 310994 entries, 0 to 310993\n",
      "Data columns (total 27 columns):\n",
      " #   Column           Non-Null Count   Dtype \n",
      "---  ------           --------------   ----- \n",
      " 0   RANDOM_ID        310994 non-null  int64 \n",
      " 1   DATE_FROM        310994 non-null  object\n",
      " 2   DATE_TO          310994 non-null  object\n",
      " 3   YEAR             310994 non-null  int64 \n",
      " 4   MONTH            310994 non-null  int64 \n",
      " 5   ATM_VISITS       310994 non-null  int64 \n",
      " 6   ATM_FJ_UTTEKT    310994 non-null  int64 \n",
      " 7   ATM_AM_UTTEKT    310994 non-null  int64 \n",
      " 8   ATM_FJ_INNLOGN   310994 non-null  int64 \n",
      " 9   ATM_AM_INNLOGN   310994 non-null  int64 \n",
      " 10  APP_VISITS       310994 non-null  int64 \n",
      " 11  APP_FJ_MILLIF    310994 non-null  int64 \n",
      " 12  APP_AM_MILLIF    310994 non-null  int64 \n",
      " 13  NETB_VISITS      310994 non-null  int64 \n",
      " 14  NETB_FJ_MILLIF   310994 non-null  int64 \n",
      " 15  NETB_AM_MILLIF   310994 non-null  int64 \n",
      " 16  UTIBU_VISITS     310994 non-null  int64 \n",
      " 17  UTIBU_FJ_MILLIF  310994 non-null  int64 \n",
      " 18  UTIBU_AM_MILLIF  310994 non-null  int64 \n",
      " 19  ATM_ACTIVE_30    310994 non-null  int64 \n",
      " 20  APP_ACTIVE_30    310994 non-null  int64 \n",
      " 21  NETB_ACTIVE_30   310994 non-null  int64 \n",
      " 22  UTIBU_ACTIVE_30  310994 non-null  int64 \n",
      " 23  ATM_ACTIVE_90    310994 non-null  int64 \n",
      " 24  APP_ACTIVE_90    310994 non-null  int64 \n",
      " 25  NETB_ACTIVE_90   310994 non-null  int64 \n",
      " 26  UTIBU_ACTIVE_90  310994 non-null  int64 \n",
      "dtypes: int64(25), object(2)\n",
      "memory usage: 64.1+ MB\n"
     ]
    }
   ],
   "source": [
    "channels_use = pd.read_csv(\"Channels_use.csv\")\n",
    "channels_use.info()"
   ]
  },
  {
   "cell_type": "code",
   "execution_count": 6,
   "id": "86d64289",
   "metadata": {},
   "outputs": [],
   "source": [
    "# Set up a correct types for dates\n",
    "channels_use[\"DATE_FROM\"] = pd.to_datetime(channels_use[\"DATE_FROM\"], dayfirst=True)\n",
    "channels_use[\"DATE_TO\"] = pd.to_datetime(channels_use[\"DATE_TO\"], dayfirst=True)\n",
    "\n",
    "# Rename date columns\n",
    "channels_use.rename(columns={\"DATE_FROM\":\"CHANNEL_DATE_FROM\", \"DATE_TO\":\"CHANNEL_DATE_TO\"}, inplace=True)"
   ]
  },
  {
   "cell_type": "markdown",
   "id": "7a168b66",
   "metadata": {},
   "source": [
    "I am going to summaraize this dataframe based on the RANDOM_ID. Columns representing channel usage will be represent as a sum or count. Features that are related to activity will be presented as a mean of the preriod. Columns that contain date information will be represented accordingly to the character of the information.  "
   ]
  },
  {
   "cell_type": "code",
   "execution_count": 7,
   "id": "0b5dff38",
   "metadata": {},
   "outputs": [],
   "source": [
    "# Divide columns into summary category (sum/mean)\n",
    "sum_columns = []\n",
    "mean_columns = []\n",
    "\n",
    "sum_columns.append(\"ATM_VISITS\")\n",
    "\n",
    "for column in channels_use.columns:\n",
    "    if \"_FJ_\" in column or \"_AM_\" in column:\n",
    "        sum_columns.append(column)\n",
    "    elif \"ACTIVE\" in column:\n",
    "        mean_columns.append(column)\n",
    "\n",
    "# Create summary datasets\n",
    "acitivity = channels_use.groupby(\"RANDOM_ID\")[mean_columns].mean().reset_index()\n",
    "channels = channels_use.groupby(\"RANDOM_ID\")[sum_columns].sum().reset_index()\n",
    "dates = channels_use.groupby(\"RANDOM_ID\")[[\"CHANNEL_DATE_FROM\", \"CHANNEL_DATE_TO\"]].agg({\"CHANNEL_DATE_FROM\":min,\n",
    "                                                                                         \"CHANNEL_DATE_TO\":max}).reset_index()\n",
    "\n",
    "# Merge summary datasets\n",
    "channel_summary = acitivity.merge(right=channels, how=\"outer\", on=\"RANDOM_ID\").merge(right=dates, how=\"outer\", on=\"RANDOM_ID\")\n",
    "\n",
    "# Merge channel summary with customer information\n",
    "channel_summary = customer_info.merge(right=channel_summary, how=\"outer\", on=\"RANDOM_ID\")"
   ]
  },
  {
   "cell_type": "code",
   "execution_count": 8,
   "id": "4fe5c7f8",
   "metadata": {},
   "outputs": [],
   "source": [
    "# Fill missing values with 0 and dummy date\n",
    "channel_summary[[\"CHANNEL_DATE_FROM\", \"CHANNEL_DATE_TO\"]] = channel_summary[[\"CHANNEL_DATE_FROM\", \"CHANNEL_DATE_TO\"]].fillna(value=pd.to_datetime('1/1/2015'))\n",
    "channel_summary.fillna(0, inplace=True)\n",
    "\n",
    "# Convert float to int to summariaze activity as binary indicator\n",
    "for column in channel_summary.columns:\n",
    "    if channel_summary[column].dtype == \"float\":\n",
    "        channel_summary[column] = channel_summary[column].astype('int')"
   ]
  },
  {
   "cell_type": "markdown",
   "id": "bc3467ac",
   "metadata": {},
   "source": [
    "### Product usage preprocessing"
   ]
  },
  {
   "cell_type": "code",
   "execution_count": 9,
   "id": "4f255406",
   "metadata": {},
   "outputs": [
    {
     "name": "stdout",
     "output_type": "stream",
     "text": [
      "<class 'pandas.core.frame.DataFrame'>\n",
      "RangeIndex: 2388329 entries, 0 to 2388328\n",
      "Data columns (total 6 columns):\n",
      " #   Column          Dtype \n",
      "---  ------          ----- \n",
      " 0   DATE_FROM       object\n",
      " 1   DATE_TO         object\n",
      " 2   RANDOM_ID       int64 \n",
      " 3   PRODUCT_KEY_ID  int64 \n",
      " 4   VARIABLE_ID     int64 \n",
      " 5   VAR_NUMBER      int64 \n",
      "dtypes: int64(4), object(2)\n",
      "memory usage: 109.3+ MB\n"
     ]
    }
   ],
   "source": [
    "product_use = pd.read_csv(\"Product_use.csv\")\n",
    "product_use.info()"
   ]
  },
  {
   "cell_type": "code",
   "execution_count": 10,
   "id": "b9a2bf31",
   "metadata": {},
   "outputs": [],
   "source": [
    "# Change type of date information to datatime\n",
    "product_use[\"DATE_FROM\"] = pd.to_datetime(product_use[\"DATE_FROM\"], dayfirst=True)\n",
    "product_use[\"DATE_TO\"] = pd.to_datetime(product_use[\"DATE_TO\"], dayfirst=True)\n",
    "\n",
    "product_use.rename(columns={\"DATE_FROM\":\"PRODUCT_DATE_FROM\", \"DATE_TO\":\"PRODUCT_DATE_TO\"}, inplace=True)"
   ]
  },
  {
   "cell_type": "markdown",
   "id": "c16b0a8e",
   "metadata": {},
   "source": [
    "### Improting variable and product information"
   ]
  },
  {
   "cell_type": "code",
   "execution_count": 11,
   "id": "64f24a02",
   "metadata": {},
   "outputs": [
    {
     "data": {
      "text/html": [
       "<div>\n",
       "<style scoped>\n",
       "    .dataframe tbody tr th:only-of-type {\n",
       "        vertical-align: middle;\n",
       "    }\n",
       "\n",
       "    .dataframe tbody tr th {\n",
       "        vertical-align: top;\n",
       "    }\n",
       "\n",
       "    .dataframe thead th {\n",
       "        text-align: right;\n",
       "    }\n",
       "</style>\n",
       "<table border=\"1\" class=\"dataframe\">\n",
       "  <thead>\n",
       "    <tr style=\"text-align: right;\">\n",
       "      <th></th>\n",
       "      <th>ID</th>\n",
       "      <th>BREYTA</th>\n",
       "      <th>UTSKYRING</th>\n",
       "      <th>TEGUND</th>\n",
       "    </tr>\n",
       "  </thead>\n",
       "  <tbody>\n",
       "    <tr>\n",
       "      <th>0</th>\n",
       "      <td>1</td>\n",
       "      <td>Innlansreikningur</td>\n",
       "      <td>Hvort viðkomandi sé með innlánsreikning af til...</td>\n",
       "      <td>Binary</td>\n",
       "    </tr>\n",
       "    <tr>\n",
       "      <th>1</th>\n",
       "      <td>5</td>\n",
       "      <td>Velta_innlansreikning</td>\n",
       "      <td>upphæð innlagnar inn á innlánsreikning á gefnu...</td>\n",
       "      <td>Amount</td>\n",
       "    </tr>\n",
       "    <tr>\n",
       "      <th>2</th>\n",
       "      <td>34</td>\n",
       "      <td>Kreditkort</td>\n",
       "      <td>Var viðkomandi með notað kreditkort á gefnu tí...</td>\n",
       "      <td>Binary</td>\n",
       "    </tr>\n",
       "    <tr>\n",
       "      <th>3</th>\n",
       "      <td>36</td>\n",
       "      <td>velta_1m</td>\n",
       "      <td>Upphæð veltu korts á gefnu tímabili</td>\n",
       "      <td>Amount</td>\n",
       "    </tr>\n",
       "    <tr>\n",
       "      <th>4</th>\n",
       "      <td>50</td>\n",
       "      <td>Er_med_utlan</td>\n",
       "      <td>Er með útlán af tilteknu vörunúmer á gefnu tím...</td>\n",
       "      <td>Binary</td>\n",
       "    </tr>\n",
       "    <tr>\n",
       "      <th>5</th>\n",
       "      <td>53</td>\n",
       "      <td>Skuldabréfastaða</td>\n",
       "      <td>Útlánastaða viðkomandi viðskiptavinar (innan e...</td>\n",
       "      <td>Amount</td>\n",
       "    </tr>\n",
       "    <tr>\n",
       "      <th>6</th>\n",
       "      <td>424</td>\n",
       "      <td>Asset under mgmt</td>\n",
       "      <td>Er með eignir í stýringu á gefnu tímabili</td>\n",
       "      <td>Binary</td>\n",
       "    </tr>\n",
       "    <tr>\n",
       "      <th>7</th>\n",
       "      <td>446</td>\n",
       "      <td>Asset under mgmt</td>\n",
       "      <td>Staða eigna í stýringu á gefnu tímabili</td>\n",
       "      <td>Amount</td>\n",
       "    </tr>\n",
       "  </tbody>\n",
       "</table>\n",
       "</div>"
      ],
      "text/plain": [
       "    ID                 BREYTA  \\\n",
       "0    1      Innlansreikningur   \n",
       "1    5  Velta_innlansreikning   \n",
       "2   34             Kreditkort   \n",
       "3   36               velta_1m   \n",
       "4   50           Er_med_utlan   \n",
       "5   53       Skuldabréfastaða   \n",
       "6  424       Asset under mgmt   \n",
       "7  446       Asset under mgmt   \n",
       "\n",
       "                                           UTSKYRING  TEGUND  \n",
       "0  Hvort viðkomandi sé með innlánsreikning af til...  Binary  \n",
       "1  upphæð innlagnar inn á innlánsreikning á gefnu...  Amount  \n",
       "2  Var viðkomandi með notað kreditkort á gefnu tí...  Binary  \n",
       "3                Upphæð veltu korts á gefnu tímabili  Amount  \n",
       "4  Er með útlán af tilteknu vörunúmer á gefnu tím...  Binary  \n",
       "5  Útlánastaða viðkomandi viðskiptavinar (innan e...  Amount  \n",
       "6         Er með eignir í stýringu á gefnu tímabili   Binary  \n",
       "7           Staða eigna í stýringu á gefnu tímabili   Amount  "
      ]
     },
     "execution_count": 11,
     "metadata": {},
     "output_type": "execute_result"
    }
   ],
   "source": [
    "variable_info = pd.read_csv(\"Variable_info.csv\", encoding='latin-1', sep=\";\")\n",
    "variable_info"
   ]
  },
  {
   "cell_type": "code",
   "execution_count": 12,
   "id": "60dd061a",
   "metadata": {},
   "outputs": [
    {
     "data": {
      "text/html": [
       "<div>\n",
       "<style scoped>\n",
       "    .dataframe tbody tr th:only-of-type {\n",
       "        vertical-align: middle;\n",
       "    }\n",
       "\n",
       "    .dataframe tbody tr th {\n",
       "        vertical-align: top;\n",
       "    }\n",
       "\n",
       "    .dataframe thead th {\n",
       "        text-align: right;\n",
       "    }\n",
       "</style>\n",
       "<table border=\"1\" class=\"dataframe\">\n",
       "  <thead>\n",
       "    <tr style=\"text-align: right;\">\n",
       "      <th></th>\n",
       "      <th>PRODUCT_KEY_ID</th>\n",
       "      <th>PRODUCT_GROUP_PARENT</th>\n",
       "      <th>PRODUCT_GROUP</th>\n",
       "    </tr>\n",
       "  </thead>\n",
       "  <tbody>\n",
       "    <tr>\n",
       "      <th>0</th>\n",
       "      <td>1070</td>\n",
       "      <td>Innlán</td>\n",
       "      <td>Sparnaðarreikningur</td>\n",
       "    </tr>\n",
       "    <tr>\n",
       "      <th>1</th>\n",
       "      <td>1176</td>\n",
       "      <td>Innlán</td>\n",
       "      <td>Sparnaðarreikningur</td>\n",
       "    </tr>\n",
       "    <tr>\n",
       "      <th>2</th>\n",
       "      <td>270</td>\n",
       "      <td>Innlán</td>\n",
       "      <td>Sparnaðarreikningur</td>\n",
       "    </tr>\n",
       "    <tr>\n",
       "      <th>3</th>\n",
       "      <td>1141</td>\n",
       "      <td>Innlán</td>\n",
       "      <td>Tékkareikningur</td>\n",
       "    </tr>\n",
       "    <tr>\n",
       "      <th>4</th>\n",
       "      <td>1126</td>\n",
       "      <td>Innlán</td>\n",
       "      <td>Tékkareikningur</td>\n",
       "    </tr>\n",
       "  </tbody>\n",
       "</table>\n",
       "</div>"
      ],
      "text/plain": [
       "   PRODUCT_KEY_ID PRODUCT_GROUP_PARENT        PRODUCT_GROUP\n",
       "0            1070               Innlán  Sparnaðarreikningur\n",
       "1            1176               Innlán  Sparnaðarreikningur\n",
       "2             270               Innlán  Sparnaðarreikningur\n",
       "3            1141               Innlán      Tékkareikningur\n",
       "4            1126               Innlán      Tékkareikningur"
      ]
     },
     "execution_count": 12,
     "metadata": {},
     "output_type": "execute_result"
    }
   ],
   "source": [
    "product_info = pd.read_csv(\"product_info.csv\", encoding='latin-1', sep=\",\")\n",
    "product_info.head()"
   ]
  },
  {
   "cell_type": "markdown",
   "id": "665ad9aa",
   "metadata": {},
   "source": [
    "### Merging datasets into one file"
   ]
  },
  {
   "cell_type": "code",
   "execution_count": 13,
   "id": "8df95acb",
   "metadata": {},
   "outputs": [],
   "source": [
    "# Merge product usage dataset with variable information\n",
    "dataset = product_use.merge(right=variable_info, how=\"left\", left_on='VARIABLE_ID', right_on='ID')\n",
    "\n",
    "# Merge product usage dataset with product information\n",
    "dataset = dataset.merge(right=product_info, how=\"left\", on=\"PRODUCT_KEY_ID\")\n",
    "\n",
    "# Merge product usage dataset with customer and channel usage information\n",
    "dataset = dataset.merge(right=channel_summary, how=\"left\", on=\"RANDOM_ID\")"
   ]
  },
  {
   "cell_type": "markdown",
   "id": "a1dd8cd8",
   "metadata": {},
   "source": [
    "### Optimizing memory usage "
   ]
  },
  {
   "cell_type": "code",
   "execution_count": 14,
   "id": "2e2b028f",
   "metadata": {},
   "outputs": [],
   "source": [
    "# Source: https://medium.com/bigdatarepublic/advanced-pandas-optimize-speed-and-memory-a654b53be6c2\n",
    "def optimize_numbers(df):\n",
    "    ints = df.select_dtypes(include=['int64']).columns.tolist()\n",
    "    df[ints] = df[ints].apply(pd.to_numeric, downcast='integer')\n",
    "    return df\n",
    "\n",
    "def optimize_strings(df, datetime_features):\n",
    "    for col in df.select_dtypes(include=['object']):\n",
    "        if col not in datetime_features:\n",
    "            num_unique_values = len(df[col].unique())\n",
    "            num_total_values = len(df[col])\n",
    "            if float(num_unique_values) / num_total_values < 0.5:\n",
    "                df[col] = df[col].astype('category')\n",
    "        else:\n",
    "            df[col] = pd.to_datetime(df[col])\n",
    "    return df"
   ]
  },
  {
   "cell_type": "code",
   "execution_count": 15,
   "id": "af39f512",
   "metadata": {},
   "outputs": [],
   "source": [
    "dataset = optimize_numbers(optimize_strings(dataset, datetime_features=[\"PRODUCT_DATE_FROM\", \"PRODUCT_DATE_TO\"]))"
   ]
  },
  {
   "cell_type": "code",
   "execution_count": 16,
   "id": "193d6fa4",
   "metadata": {},
   "outputs": [],
   "source": [
    "dataset.to_csv(\"dataset.csv\", encoding='latin-1', index=False)"
   ]
  }
 ],
 "metadata": {
  "hide_input": false,
  "kernelspec": {
   "display_name": "Python 3 (ipykernel)",
   "language": "python",
   "name": "python3"
  },
  "language_info": {
   "codemirror_mode": {
    "name": "ipython",
    "version": 3
   },
   "file_extension": ".py",
   "mimetype": "text/x-python",
   "name": "python",
   "nbconvert_exporter": "python",
   "pygments_lexer": "ipython3",
   "version": "3.9.6"
  }
 },
 "nbformat": 4,
 "nbformat_minor": 5
}
